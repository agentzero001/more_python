%run ann_example.py


plt.plot(data_unique,ys)


data_unique, ys


np.unique(np.random.choice(np.linspace(-10,10,1000), (obs, 1)), axis=0)


data_unique[0]**2


8.94813733e-01


type(torch.tensor([1,2,3]))


yh.detach().numpy()


%run torch_nn.py





%run torch_nn1.py


optimizer.zero_grad?


import torch.nn as nn

# Example layer with 3 input features and 2 output features
layer = nn.Linear(3, 2)

# Accessing the weights and biases
weights = layer.weight
biases = layer.bias

print("Weights:", weights)
print("Biases:", biases)


layer(torch.randn(10, 3))


%run torch_nn2.py


model.Forward(x)[0]


datasets.MNIST?


%run torch_nn2


#why does it contain 4 tensors and why are they transposed?
#and do i even need to know?
for i in model.parameters():
    print(i.shape)


torch.randn((20,10)).shape


train_dataset


import matplotlib.pyplot as plt


plt.style.use('dark_background')
plt.imshow(train_dataset[-1][0][0])


train_dataset[-1][1]


train_dataset[-1][0].shape


Out[32]


data.shape


torch.randn(20,10,25,6).reshape(20, -1).shape


%run torch_nn2.py


model.training


model.add_module?


loss


scores.shape


targets


import numpy as np


x = np.random.randint(0,100,(10,10))
x


x.argmax(1)


x


%run torch_fc.py


train_dataset.data.shape


train_dataset.targets.shape


train_loader.dataset


a, b = check_accuracy(test_loader, model)


round(float(b/a), 3)


_8 = train_dataset[-1][0][0]


_8 = _8.reshape(-1)
output = model(_8).detach().numpy()


absolute_output = output - output.min()


plt.style.use('dark_background')
plt.bar(range(10), output)


def softmax(x):
    exp_x = np.exp(x - np.max(x)) 
    return exp_x / np.sum(exp_x, axis=0)


plt.bar(range(10), softmax(output))


softmax(output)


model


%run torch_cnn.py


train_dataset[0][0].shape


model


a, b = check_accuracy(test_loader, model)


b/a


a, b = check_accuracy(train_loader, model)


b/a


b,a


X_ = torch.Tensor([1,2,3])
X_.numpy()


import os

os.makedirs(os.path.join('..', 'data'), exist_ok=True)
data_file = os.path.join('..', 'data', 'house_tiny.csv')
with open(data_file, 'w') as f:
    f.write('''NumRooms,RoofType,Price
NA,NA,127500
2,NA,106000
4,Slate,178100
NA,NA,140000''')


data_file


import pandas as pd

data = pd.read_csv(data_file)
print(data)


inputs, targets = data.iloc[:, 0:2], data.iloc[:, 2]
inputs = pd.get_dummies(inputs, dummy_na=True)
inputs


inputs = inputs.fillna(inputs.mean())
inputs


import torch
X = torch.tensor(inputs.to_numpy(dtype=float))
y = torch.tensor(targets.to_numpy(dtype=float))

X, y


%run torch_nn1.py


%run torch_fc.py


samples, correct_ones = check_accuracy


model_dict = model.state_dict()


model_dict['fc1.bias']


%run torch_fc.py


model_dict = model.state_dict()
model_dict['fc1.bias']


main()


model_dict = model.state_dict()
model_dict['fc1.bias']


%run torch_cnn.py


main()


n, successes = check_accuracy(test_loader, model)






