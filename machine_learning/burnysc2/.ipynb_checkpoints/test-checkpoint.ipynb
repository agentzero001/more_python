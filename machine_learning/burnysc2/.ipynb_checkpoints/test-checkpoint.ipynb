{
 "cells": [
  {
   "cell_type": "code",
   "execution_count": 2,
   "metadata": {},
   "outputs": [],
   "source": [
    "from sc2.bot_ai import BotAI  \n",
    "from sc2.data import Difficulty, Race\n",
    "from sc2.player import Bot, Computer  \n",
    "from sc2 import maps  # maps method for loading maps to play in.\n",
    "from sc2.ids.unit_typeid import UnitTypeId as ut\n",
    "import sc2\n",
    "import time\n"
   ]
  },
  {
   "cell_type": "code",
   "execution_count": 4,
   "metadata": {},
   "outputs": [],
   "source": [
    "bot = BotAI()\n",
    "bot,"
   ]
  },
  {
   "cell_type": "code",
   "execution_count": 12,
   "metadata": {},
   "outputs": [
    {
     "ename": "AttributeError",
     "evalue": "'BotAI' object has no attribute 'unit'",
     "output_type": "error",
     "traceback": [
      "\u001b[1;31m---------------------------------------------------------------------------\u001b[0m",
      "\u001b[1;31mAttributeError\u001b[0m                            Traceback (most recent call last)",
      "Cell \u001b[1;32mIn[12], line 1\u001b[0m\n\u001b[1;32m----> 1\u001b[0m bot\u001b[38;5;241m.\u001b[39munit(ut\u001b[38;5;241m.\u001b[39mNEXUS)\n",
      "\u001b[1;31mAttributeError\u001b[0m: 'BotAI' object has no attribute 'unit'"
     ]
    }
   ],
   "source": [
    "bot.unit(ut.NEXUS)"
   ]
  },
  {
   "cell_type": "code",
   "execution_count": null,
   "metadata": {},
   "outputs": [],
   "source": []
  }
 ],
 "metadata": {
  "kernelspec": {
   "display_name": "Python 3 (ipykernel)",
   "language": "python",
   "name": "python3"
  },
  "language_info": {
   "codemirror_mode": {
    "name": "ipython",
    "version": 3
   },
   "file_extension": ".py",
   "mimetype": "text/x-python",
   "name": "python",
   "nbconvert_exporter": "python",
   "pygments_lexer": "ipython3",
   "version": "3.11.5"
  }
 },
 "nbformat": 4,
 "nbformat_minor": 2
}
