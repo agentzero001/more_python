{
 "cells": [
  {
   "cell_type": "code",
   "execution_count": 1,
   "id": "e4858d62",
   "metadata": {},
   "outputs": [],
   "source": [
    "with open('time_calc.py', 'r') as f:\n",
    "    time_calc_code = f.read()"
   ]
  },
  {
   "cell_type": "code",
   "execution_count": 3,
   "id": "4f367961",
   "metadata": {},
   "outputs": [
    {
     "name": "stdout",
     "output_type": "stream",
     "text": [
      "time to compute on cpu: 0.004003047943115234\n",
      "time to compute on gpu: 3.8334875106811523\n",
      "True\n",
      " "
     ]
    }
   ],
   "source": [
    "%prun -s cumulative exec(time_calc_code)"
   ]
  },
  {
   "cell_type": "code",
   "execution_count": null,
   "id": "4ea3e30a",
   "metadata": {},
   "outputs": [],
   "source": []
  }
 ],
 "metadata": {
  "kernelspec": {
   "display_name": "Python 3 (ipykernel)",
   "language": "python",
   "name": "python3"
  },
  "language_info": {
   "codemirror_mode": {
    "name": "ipython",
    "version": 3
   },
   "file_extension": ".py",
   "mimetype": "text/x-python",
   "name": "python",
   "nbconvert_exporter": "python",
   "pygments_lexer": "ipython3",
   "version": "3.11.5"
  }
 },
 "nbformat": 4,
 "nbformat_minor": 5
}
